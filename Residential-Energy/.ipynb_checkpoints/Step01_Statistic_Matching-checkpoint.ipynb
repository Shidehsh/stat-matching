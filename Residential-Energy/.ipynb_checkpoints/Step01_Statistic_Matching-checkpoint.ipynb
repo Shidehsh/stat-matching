{
 "cells": [
  {
   "cell_type": "code",
   "execution_count": 4,
   "metadata": {},
   "outputs": [
    {
     "name": "stderr",
     "output_type": "stream",
     "text": [
      "Installing package into ‘/home/jupyter/.R/library’\n",
      "(as ‘lib’ is unspecified)\n",
      "\n",
      "also installing the dependencies ‘png’, ‘jpeg’, ‘checkmate’, ‘Formula’, ‘latticeExtra’, ‘acepack’, ‘gridExtra’, ‘htmlTable’, ‘viridis’\n",
      "\n",
      "\n"
     ]
    }
   ],
   "source": [
    "# install.packages('StatMatch')\n",
    "# install.packages('reshape')\n",
    "# install.packages('ade4')\n",
    "# install.packagesckages('stringi')\n",
    "# install.packages('Hmisc')"
   ]
  },
  {
   "cell_type": "code",
   "execution_count": 6,
   "metadata": {},
   "outputs": [],
   "source": [
    "library(StatMatch)\n",
    "library(reshape)\n",
    "library(ade4)\n",
    "library(Hmisc)"
   ]
  },
  {
   "cell_type": "code",
   "execution_count": 7,
   "metadata": {},
   "outputs": [],
   "source": [
    "# Read in data\n",
    "setwd(\"/home/jupyter/stat-matching/Residential-Energy\")\n",
    "\n",
    "recs = read.csv(\"data/recs2015_public_v4.csv\")\n",
    "pums<- read.csv(\"data/ss15hpa.csv\")"
   ]
  },
  {
   "cell_type": "code",
   "execution_count": 8,
   "metadata": {},
   "outputs": [],
   "source": [
    "# reformating common variables in recs\n",
    "recs$BTUOTHER <- recs$TOTALBTU - recs$BTUEL - recs$BTUNG\n",
    "\n",
    "recs$x_hhtype <- factor(recs$TYPEHUQ, labels = c(\" mobile home\", \" single family detached\", \" single family attached\", \" apartment in building with 2-4 units\", \" apartment in building with 5+ units\"))\n",
    "recs$x_tenure <- factor(recs$KOWNRENT, labels = c(\" owned by someone in the household\", \" rented\", \" occupied without payment of rent\"))\n",
    "recs$x_yearbuilt <- cut(recs$YEARMADE, breaks = c(-Inf, 1939, 1949, 1959, 1969, 1979, 1989,1999,2004,2005,2006,2007, 2008, Inf), labels = c(\" 1939 or earlier\", \" 1940-1949\", \" 1950-1959\", \" 1960-1969\",\" 1970-1979\",\" 1980-1989\", \" 1990-1999\", \" 2000-2004\", \"2005\",\"2006\",\"2007\",\"2008\", \"2009\"), order = TRUE)\n",
    "recs$x_mvin <- cut(recs$OCCUPYYRANGE, breaks = c(-Inf, 4, 5, 6,7,Inf), labels = c(\" 30 years or more\", \" 20-29 years\", \" 10-19 years\", \" 5-9 years\", \" 4 or less years\"), ordered = TRUE)\n",
    "\n",
    "recs$BEDROOMS[recs$BEDROOMS<0] <- NA\n",
    "recs$x_bedrooms <- recs$BEDROOMS\n",
    "\n",
    "recs$x_totrooms <- recs$TOTROOMS\n",
    "\n",
    "recs$x_heatfuel <- cut(recs$FUELHEAT, breaks = c(-Inf, 0, 1, 2, 4,5,7, Inf), labels = c(\" No fuel used\", \" natural gas\", \" propange/LPG\", \" fuel oil or Kerosene\", \" electricity\", \" wood\", \" other fuel\"))\n",
    "recs$x_heatfuel <- recs$FUELHEAT\n",
    "recs$x_heatfuel[recs$x_heatfuel == 2] <- 8\n",
    "recs$x_heatfuel[recs$x_heatfuel == 4] <- 8\n",
    "recs$x_heatfuel[recs$x_heatfuel == 7] <- 8\n",
    "recs$x_heatfuel[recs$x_heatfuel == 0] <- 8\n",
    "recs$x_heatfuel <- cut(recs$x_heatfuel, breaks = c(-Inf, 1, 5,Inf), labels = c( \" natural gas\",  \" electricity\", \" other fuel\"))\n",
    "\n",
    "recs$x_hhsize <- recs$NHSLDMEM\n",
    "recs$x_hhincome <- factor(recs$MONEYPY, labels = c(\"Less than $20,000\",\n",
    "\"$20,000 - $39,999\",\n",
    "\"$40,000 - $59,999\",\n",
    "\"$60,000 to $79,999\",\n",
    "\"$80,000 to $99,999\",\n",
    "\"$100,000 to $119,999\",\n",
    "\"$120,000 to $139,999\",\n",
    "\"$140,000 or more\"),ordered = TRUE)\n",
    "recs$x_yearel <- recs$DOLLAREL\n",
    "recs$x_yearng <- recs$DOLLARNG/recs$HDD65*374 #https://www.eia.gov/totalenergy/data/annual/showtext.php?t=ptb0107\n",
    "recs$x_yearother <- recs$TOTALDOL - recs$DOLLAREL - recs$DOLLARNG\n"
   ]
  },
  {
   "cell_type": "code",
   "execution_count": 9,
   "metadata": {},
   "outputs": [
    {
     "name": "stderr",
     "output_type": "stream",
     "text": [
      "Warning message in cor(x, rank(y)):\n",
      "“the standard deviation is zero”\n"
     ]
    },
    {
     "data": {
      "text/plain": [
       "\n",
       "Spearman rho^2    Response variable:TOTALBTU\n",
       "\n",
       "             rho2       F df1  df2  P Adjusted rho2    n\n",
       "x_hhtype    0.325  684.34   4 5681  0         0.325 5686\n",
       "x_tenure    0.192  675.21   2 5683  0         0.192 5686\n",
       "x_yearbuilt    NA      NA   1 5684 NA            NA 5686\n",
       "x_mvin      0.083  128.31   4 5681  0         0.082 5686\n",
       "x_bedrooms  0.314 1298.66   2 5683  0         0.313 5686\n",
       "x_totrooms  0.356 1570.29   2 5683  0         0.356 5686\n",
       "x_heatfuel  0.117  374.73   2 5683  0         0.116 5686\n",
       "x_hhsize    0.100  316.67   2 5683  0         0.100 5686\n",
       "x_hhincome  0.115  105.84   7 5678  0         0.114 5686\n",
       "x_yearel    0.223  816.38   2 5683  0         0.223 5686\n",
       "x_yearng    0.152  506.55   2 5674  0         0.151 5677\n",
       "x_yearother 0.166  565.16   2 5683  0         0.166 5686"
      ]
     },
     "metadata": {},
     "output_type": "display_data"
    },
    {
     "name": "stderr",
     "output_type": "stream",
     "text": [
      "Warning message in cor(x, rank(y)):\n",
      "“the standard deviation is zero”\n"
     ]
    },
    {
     "data": {
      "text/plain": [
       "\n",
       "Spearman rho^2    Response variable:BTUEL\n",
       "\n",
       "             rho2        F df1  df2  P Adjusted rho2    n\n",
       "x_hhtype    0.193   340.69   4 5681  0         0.193 5686\n",
       "x_tenure    0.100   314.37   2 5683  0         0.099 5686\n",
       "x_yearbuilt    NA       NA   1 5684 NA            NA 5686\n",
       "x_mvin      0.036    53.35   4 5681  0         0.036 5686\n",
       "x_bedrooms  0.184   642.85   2 5683  0         0.184 5686\n",
       "x_totrooms  0.189   660.29   2 5683  0         0.188 5686\n",
       "x_heatfuel  0.098   309.80   2 5683  0         0.098 5686\n",
       "x_hhsize    0.113   360.24   2 5683  0         0.112 5686\n",
       "x_hhincome  0.052    44.80   7 5678  0         0.051 5686\n",
       "x_yearel    0.831 13967.48   2 5683  0         0.831 5686\n",
       "x_yearng    0.172   587.51   2 5674  0         0.171 5677\n",
       "x_yearother 0.004    10.24   2 5683  0         0.003 5686"
      ]
     },
     "metadata": {},
     "output_type": "display_data"
    },
    {
     "name": "stderr",
     "output_type": "stream",
     "text": [
      "Warning message in cor(x, rank(y)):\n",
      "“the standard deviation is zero”\n"
     ]
    },
    {
     "data": {
      "text/plain": [
       "\n",
       "Spearman rho^2    Response variable:BTUNG\n",
       "\n",
       "             rho2        F df1  df2  P Adjusted rho2    n\n",
       "x_hhtype    0.062    93.58   4 5681  0         0.061 5686\n",
       "x_tenure    0.027    79.66   2 5683  0         0.027 5686\n",
       "x_yearbuilt    NA       NA   1 5684 NA            NA 5686\n",
       "x_mvin      0.012    17.38   4 5681  0         0.011 5686\n",
       "x_bedrooms  0.064   193.38   2 5683  0         0.063 5686\n",
       "x_totrooms  0.070   212.93   2 5683  0         0.069 5686\n",
       "x_heatfuel  0.673  5838.42   2 5683  0         0.673 5686\n",
       "x_hhsize    0.011    31.66   2 5683  0         0.011 5686\n",
       "x_hhincome  0.037    30.93   7 5678  0         0.036 5686\n",
       "x_yearel    0.031    89.62   2 5683  0         0.030 5686\n",
       "x_yearng    0.826 13506.84   2 5674  0         0.826 5677\n",
       "x_yearother 0.098   307.29   2 5683  0         0.097 5686"
      ]
     },
     "metadata": {},
     "output_type": "display_data"
    },
    {
     "name": "stderr",
     "output_type": "stream",
     "text": [
      "Warning message in cor(x, rank(y)):\n",
      "“the standard deviation is zero”\n"
     ]
    },
    {
     "data": {
      "text/plain": [
       "\n",
       "Spearman rho^2    Response variable:BTUOTHER\n",
       "\n",
       "             rho2       F df1  df2      P Adjusted rho2    n\n",
       "x_hhtype    0.014   19.58   4 5681 0.0000         0.013 5686\n",
       "x_tenure    0.009   25.47   2 5683 0.0000         0.009 5686\n",
       "x_yearbuilt    NA      NA   1 5684     NA            NA 5686\n",
       "x_mvin      0.009   12.63   4 5681 0.0000         0.008 5686\n",
       "x_bedrooms  0.002    6.59   2 5683 0.0014         0.002 5686\n",
       "x_totrooms  0.004   12.80   2 5683 0.0000         0.004 5686\n",
       "x_heatfuel  0.140  460.91   2 5683 0.0000         0.139 5686\n",
       "x_hhsize    0.001    4.17   2 5683 0.0154         0.001 5686\n",
       "x_hhincome  0.001    1.17   7 5678 0.3150         0.000 5686\n",
       "x_yearel    0.007   18.79   2 5683 0.0000         0.006 5686\n",
       "x_yearng    0.072  220.21   2 5674 0.0000         0.072 5677\n",
       "x_yearother 0.310 1278.66   2 5683 0.0000         0.310 5686"
      ]
     },
     "metadata": {},
     "output_type": "display_data"
    }
   ],
   "source": [
    "# reformating common variables in pums\n",
    "pums<- pums[,1:82] #get rid of the weights\n",
    "pums$x_hhtype <- cut(pums$BLD, breaks= c(-Inf, 1,2,3,5,Inf), labels = c(\" mobile home\", \" single family detached\", \" single family attached\", \" apartment in building with 2-4 units\", \" apartment in building with 5+ units\"))\n",
    "pums$x_tenure <- cut(pums$TEN, breaks = c(-Inf, 2, 3, Inf), labels = c(\" owned by someone in the household\", \" rented\", \" occupied without payment of rent\"))\n",
    "pums$x_yearbuilt <- cut(pums$YBL, breaks = c(-Inf, 1939, 1949, 1959, 1969, 1979, 1989,1999,2004,2005,2006,2007, 2008, Inf), labels = c(\" 1939 or earlier\", \" 1940-1949\", \" 1950-1959\", \" 1960-1969\",\" 1970-1979\",\" 1980-1989\", \" 1990-1999\", \" 2000-2004\", \"2005\",\"2006\",\"2007\",\"2008\", \"2009\"), ordered = TRUE)\n",
    "pums$x_mvin <- cut(pums$MV, breaks = c(-Inf, 3, 4, 5, 6,Inf), labels = c(\" 4 or less years\",\" 5-9 years\" , \" 10-19 years\",  \" 20-29 years\",\" 30 years or more\" ), ordered = TRUE)\n",
    "pums$x_bedrooms <- pums$BDSP\n",
    "pums$x_totrooms <- pums$RMSP\n",
    "pums$x_heatfuel <- pums$HFL\n",
    "pums$x_heatfuel[pums$x_heatfuel==5] <- 8\n",
    "pums$x_heatfuel[pums$x_heatfuel==2] <- 8\n",
    "pums$x_heatfuel[pums$x_heatfuel==4] <- 8\n",
    "pums$x_heatfuel[pums$x_heatfuel==6] <- 8\n",
    "pums$x_heatfuel[pums$x_heatfuel==9] <- 8\n",
    "pums$x_heatfuel <- cut(pums$x_heatfuel, breaks = c(-Inf, 1,3, Inf), labels = c( \" natural gas\", \" electricity\",  \" other fuel\"))\n",
    "pums$x_hhsize <- pums$NP\n",
    "pums$x_hhincome <- cut(pums$HINCP, breaks = c(-Inf, 2500, 4900, 7499, 9999, 14999, 19999, 24999, 29999, 34999, 39999, 44999, 49999, 54999, 59999, 64999, 69999, 74999, 79999, 84999, 89999, 94999, 99999, 119999, Inf), labels = c(\"less than $2,500\", \" $2,500 to $4,999\", \" $5,000 to $7,499\", \" $7,500 to $9,999\", \" $10,000, to $14,999\", \" $15,000 to $19,999\", \" $20,000 to $24,999\", \" $25,000 to $29,999\", \" $30,000 to $34,999\", \" $35,000 to $39,999\", \" $40,000 to $44,999\", \" $45,000 to $49,999\", \" $50,000 to $54,999\", \" $55,000 to $59,999\", \" $60,000 to $64,999\", \" $65,000 to $69,999\", \" $70,000 to $74,999\", \" $75,000 to 79,999\", \" $80,000 to $84,999\", \" $85,000 to $89,999\", \" $90,000 to $94,999\", \" $95,000 to $99,999\", \" $100,000 to $119,999\", \" 120,000 or More\"),ordered = TRUE)\n",
    "pums$x_yearel <- pums$ELEP*12\n",
    "pums$x_yearel[pums$x_yearel==24] <- 0\n",
    "pums$x_yearel[pums$x_yearel==12] <- 0\n",
    "\n",
    "\n",
    "pums$x_yearng <- pums$GASP\n",
    "pums$x_yearng[pums$x_yearng==1] <- 0\n",
    "pums$x_yearng[pums$x_yearng==2] <- 0\n",
    "pums$x_yearng[pums$x_yearng==3] <- 0\n",
    "\n",
    "pums$x_yearother <- pums$FULP\n",
    "pums$x_yearother[pums$x_yearother==1] <- 0\n",
    "pums$x_yearother[pums$x_yearother==2] <- 0\n",
    "\n",
    "spearman2(TOTALBTU~x_hhtype+x_tenure+x_yearbuilt+x_mvin+x_bedrooms+x_totrooms+x_heatfuel+x_hhsize+ x_hhincome+ x_yearel+ x_yearng+ x_yearother, p =2, data = recs)\n",
    "spearman2(BTUEL~x_hhtype+x_tenure+x_yearbuilt+x_mvin+x_bedrooms+x_totrooms+x_heatfuel+x_hhsize+ x_hhincome+ x_yearel+ x_yearng+ x_yearother, p =2, data = recs)\n",
    "spearman2(BTUNG~x_hhtype+x_tenure+x_yearbuilt+x_mvin+x_bedrooms+x_totrooms+x_heatfuel+x_hhsize+ x_hhincome+ x_yearel+ x_yearng+ x_yearother, p =2, data = recs)\n",
    "spearman2(BTUOTHER~x_hhtype+x_tenure+x_yearbuilt+x_mvin+x_bedrooms+x_totrooms+x_heatfuel+x_hhsize+ x_hhincome+ x_yearel+ x_yearng+ x_yearother, p =2, data = recs)"
   ]
  },
  {
   "cell_type": "code",
   "execution_count": 10,
   "metadata": {},
   "outputs": [],
   "source": [
    "# drop NA values and standardize common variables\n",
    "pums <- pums[complete.cases(pums[,c(\"x_hhtype\", \"x_heatfuel\", \"x_totrooms\", \"x_yearel\", \"x_yearng\", \"x_yearother\")]),]\n",
    "\n",
    "merge_totrooms <- c(pums$x_totrooms, recs$x_totrooms)\n",
    "sd <- sd(merge_totrooms)\n",
    "mean <- mean(merge_totrooms)\n",
    "pums$x_totrooms_std <- (pums$x_totrooms - mean)/sd\n",
    "recs$x_totrooms_std <- (recs$x_totrooms - mean)/sd\n",
    "\n",
    "merge_yearel <- c(pums$x_yearel, recs$x_yearel)\n",
    "sd <- sd(merge_yearel)\n",
    "mean <- mean(merge_yearel)\n",
    "pums$x_yearel_std <- (pums$x_yearel - mean)/sd\n",
    "recs$x_yearel_std <- (recs$x_yearel - mean)/sd\n",
    "\n",
    "merge_yearng <- c(pums$x_yearng, recs$x_yearng)\n",
    "sd <- sd(merge_yearng)\n",
    "mean <- mean(merge_yearng)\n",
    "pums$x_yearng_std <- (pums$x_yearng - mean)/sd\n",
    "recs$x_yearng_std <- (recs$x_yearng - mean)/sd\n",
    "\n",
    "merge_yearother <- c(pums$x_yearother, recs$x_yearother)\n",
    "sd <- sd(merge_yearother)\n",
    "mean <- mean(merge_yearother)\n",
    "pums$x_yearother_std <- (pums$x_yearother - mean)/sd\n",
    "recs$x_yearother_std <- (recs$x_yearother - mean)/sd\n",
    "\n",
    "merge_hhsize <- c(pums$x_hhsize, recs$x_hhsize)\n",
    "sd <- sd(merge_hhsize)\n",
    "mean <- mean(merge_hhsize)\n",
    "pums$x_hhsize_std <- (pums$x_hhsize - mean)/sd\n",
    "recs$x_hhsize_std <- (recs$x_hhsize - mean)/sd\n"
   ]
  },
  {
   "cell_type": "code",
   "execution_count": null,
   "metadata": {},
   "outputs": [],
   "source": [
    "# statmatch electricity BTU\n",
    "group.v <- c(\"x_hhtype\")\n",
    "X.mtc <- c(\"x_totrooms_std\", \"x_yearel_std\")\n",
    "X.join <- c(\"SERIALNO\",\"x_totrooms\",\"x_yearel\",\"x_yearng\", \"x_hhtype\", \"x_heatfuel\")\n",
    "\n",
    "out.el <- NND.hotdeck(data.rec = recs, data.don = pums, match.vars = X.mtc, don.class = group.v, constrained = TRUE )\n",
    "elbtu <- create.fused(data.rec = recs, data.don = pums, mtc.ids = out.el$mtc.ids, z.vars=X.join)\n",
    "elbtu$dist <- out.el$dist.rd\n",
    "summary(elbtu$dist)\n",
    "elbtu<- elbtu[elbtu$dist<1,] #cut off distance above 1\n",
    "\n",
    "elbtu <- elbtu[,c(\"SERIALNO\",\"BTUEL\")]\n",
    "pums_el_final <- merge(pums, elbtu, by=\"SERIALNO\", all.x = TRUE)\n",
    "el_training <- pums_el_final[complete.cases(pums_el_final[,\"BTUEL\"]),]\n",
    "el_imputing <- pums_el_final[is.na(pums_el_final$\"BTUEL\"),]\n"
   ]
  },
  {
   "cell_type": "code",
   "execution_count": null,
   "metadata": {},
   "outputs": [],
   "source": [
    "# prepare electric outputs for machine learning\n",
    "el_training <- el_training[,-83:-99]\n",
    "el_imputing <- el_imputing[,-83:-100]\n",
    "el_training[is.na(el_training)] <- 0\n",
    "el_imputing[is.na(el_imputing)] <- 0\n",
    "\n",
    "write.csv(el_training, \"output/el_training.csv\", row.names =FALSE)\n",
    "write.csv(el_imputing, \"output/el_imputing.csv\", row.names =FALSE)\n"
   ]
  },
  {
   "cell_type": "code",
   "execution_count": null,
   "metadata": {},
   "outputs": [],
   "source": [
    "# statmatch natural gas BTU\n",
    "group.v <- c(\"x_heatfuel\")\n",
    "X.mtc <- c(\"x_yearng_std\")\n",
    "X.join <- c(\"SERIALNO\",\"x_yearng\", \"x_heatfuel\")\n",
    "\n",
    "out.ng <- NND.hotdeck(data.rec = recs, data.don = pums, match.vars = X.mtc, don.class = group.v, constrained = TRUE )\n",
    "ngbtu <- create.fused(data.rec = recs, data.don = pums, mtc.ids = out.ng$mtc.ids, z.vars=X.join)\n",
    "ngbtu$dist <- out.ng$dist.rd\n",
    "ngbtu<- ngbtu[ngbtu$dist<1,]\n",
    "\n",
    "ngbtu <- ngbtu[,c(\"SERIALNO\",\"BTUNG\")]\n",
    "pums_ng_final <- merge(pums, ngbtu, by=\"SERIALNO\", all.x = TRUE)\n",
    "ng_training <- pums_ng_final[complete.cases(pums_ng_final[,\"BTUNG\"]),]\n",
    "ng_imputing <- pums_ng_final[is.na(pums_ng_final$\"BTUNG\"),]\n",
    "\n",
    "ng_training <- ng_training[,-83:-99]\n",
    "ng_imputing <- ng_imputing[,-83:-100]\n",
    "ng_training[is.na(ng_training)] <- 0\n",
    "ng_imputing[is.na(ng_imputing)] <- 0\n",
    "\n",
    "write.csv(ng_training, \"output/ng_training.csv\", row.names =FALSE)\n",
    "write.csv(ng_imputing, \"output/ng_imputing.csv\", row.names =FALSE)\n",
    "\n"
   ]
  },
  {
   "cell_type": "code",
   "execution_count": null,
   "metadata": {},
   "outputs": [],
   "source": [
    "# statmatch other BTU\n",
    "group.v <- c(\"x_heatfuel\")\n",
    "X.mtc <- c(\"x_yearother_std\")\n",
    "X.join <- c(\"SERIALNO\",\"x_yearother\", \"x_heatfuel\")\n",
    "\n",
    "out.other<- NND.hotdeck(data.rec = recs, data.don = pums, match.vars = X.mtc, don.class = group.v, constrained = TRUE )\n",
    "obtu <- create.fused(data.rec = recs, data.don = pums, mtc.ids = out.other$mtc.ids, z.vars=X.join)\n",
    "obtu$dist <- out.other$dist.rd\n",
    "obtu <- obtu[obtu$dist<1, ]\n",
    "obtu <- obtu[,c(\"SERIALNO\",\"BTUOTHER\")]\n",
    "pums_other_final <- merge(pums, obtu, by=\"SERIALNO\", all.x = TRUE)\n",
    "\n",
    "other_training <- pums_other_final[complete.cases(pums_other_final[,\"BTUOTHER\"]),]\n",
    "other_imputing <- pums_other_final[is.na(pums_other_final$\"BTUOTHER\"),]\n",
    "other_training <- other_training[,-83:-99]\n",
    "other_imputing <- other_imputing[,-83:-100]\n",
    "other_training[is.na(other_training)] <- 0\n",
    "other_imputing[is.na(other_imputing)] <- 0\n",
    "\n",
    "write.csv(other_training, \"output/other_training.csv\", row.names =FALSE)\n",
    "write.csv(other_imputing, \"output/other_imputing.csv\", row.names =FALSE)\n",
    "\n",
    "\n"
   ]
  },
  {
   "cell_type": "code",
   "execution_count": null,
   "metadata": {},
   "outputs": [],
   "source": []
  }
 ],
 "metadata": {
  "kernelspec": {
   "display_name": "R",
   "language": "R",
   "name": "ir"
  },
  "language_info": {
   "codemirror_mode": "r",
   "file_extension": ".r",
   "mimetype": "text/x-r-source",
   "name": "R",
   "pygments_lexer": "r",
   "version": "3.6.2"
  }
 },
 "nbformat": 4,
 "nbformat_minor": 4
}
