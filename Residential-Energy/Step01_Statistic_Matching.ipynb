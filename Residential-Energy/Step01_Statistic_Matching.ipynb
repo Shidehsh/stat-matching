{
 "cells": [
  {
   "cell_type": "code",
   "execution_count": 50,
   "metadata": {},
   "outputs": [
    {
     "name": "stderr",
     "output_type": "stream",
     "text": [
      "Updating HTML index of packages in '.Library'\n",
      "Making 'packages.html' ... done\n"
     ]
    }
   ],
   "source": [
    "# install.packages('StatMatch')\n",
    "# install.packages('reshape')\n",
    "# install.packages('ade4')\n",
    "# install.packagesckages('stringi')\n",
    "# install.packages('Hmisc')\"\"\n",
    "# install.packages(\"tidyr\")\n"
   ]
  },
  {
   "cell_type": "code",
   "execution_count": 52,
   "metadata": {},
   "outputs": [],
   "source": [
    "library(StatMatch)\n",
    "library(reshape)\n",
    "library(ade4)\n",
    "library(Hmisc)\n",
    "library(tidyr)"
   ]
  },
  {
   "cell_type": "code",
   "execution_count": 132,
   "metadata": {},
   "outputs": [],
   "source": [
    "# Read in data\n",
    "recs = read.csv(\"./data/recs2015_public_v4.csv\")[1:2000,]\n",
    "pums<- read.csv(\"./data/ss15hpa.csv\")[1:10000,]"
   ]
  },
  {
   "cell_type": "code",
   "execution_count": 210,
   "metadata": {},
   "outputs": [],
   "source": [
    "# reformating common variables in recs\n",
    "recs$BTUOTHER <- recs$TOTALBTU - recs$BTUEL - recs$BTUNG\n",
    "\n",
    "recs$x_hhtype <- factor(recs$TYPEHUQ, labels = c(\" mobile home\", \" single family detached\", \" single family attached\", \" apartment in building with 2-4 units\", \" apartment in building with 5+ units\"))\n",
    "recs$x_tenure <- factor(recs$KOWNRENT, labels = c(\" owned by someone in the household\", \" rented\", \" occupied without payment of rent\"))\n",
    "\n",
    "recs$x_yearbuilt <- factor(recs$YEARMADERANGE,\n",
    "                        labels = c(\" 1950 or earlier\", \" 1950-1959\", \" 1960-1969\", \" 1970-1979\",\n",
    "                                   \" 1980-1989\",\" 1990-1999\", \" 2000-2009\", \" 2010-2015\"), order = TRUE)\n",
    "\n",
    "recs$x_mvin <- cut(recs$OCCUPYYRANGE, breaks = c(-Inf, 4, 5, 6,7,Inf), labels = c(\" 30 years or more\", \" 20-29 years\", \" 10-19 years\", \" 5-9 years\", \" 4 or less years\"), ordered = TRUE)\n",
    "\n",
    "recs$BEDROOMS[recs$BEDROOMS<0] <- NA\n",
    "recs$x_bedrooms <- recs$BEDROOMS\n",
    "\n",
    "recs$x_totrooms <- recs$TOTROOMS\n",
    "\n",
    "recs$x_heatfuel <- cut(recs$FUELHEAT, breaks = c(-Inf, 0, 1, 2, 4,5,7, Inf), labels = c(\" No fuel used\", \" natural gas\", \" propange/LPG\", \" fuel oil or Kerosene\", \" electricity\", \" wood\", \" other fuel\"))\n",
    "recs$x_heatfuel <- recs$FUELHEAT\n",
    "recs$x_heatfuel[recs$x_heatfuel == 2] <- 8\n",
    "recs$x_heatfuel[recs$x_heatfuel == 4] <- 8\n",
    "recs$x_heatfuel[recs$x_heatfuel == 7] <- 8\n",
    "recs$x_heatfuel[recs$x_heatfuel == 0] <- 8\n",
    "recs$x_heatfuel <- cut(recs$x_heatfuel, breaks = c(-Inf, 1, 5,Inf), labels = c( \" natural gas\",  \" electricity\", \" other fuel\"))\n",
    "\n",
    "recs$x_hhsize <- recs$NHSLDMEM\n",
    "recs$x_hhincome <- factor(recs$MONEYPY, labels = c(\"Less than $20,000\",\n",
    "\"$20,000 - $39,999\",\n",
    "\"$40,000 - $59,999\",\n",
    "\"$60,000 to $79,999\",\n",
    "\"$80,000 to $99,999\",\n",
    "\"$100,000 to $119,999\",\n",
    "\"$120,000 to $139,999\",\n",
    "\"$140,000 or more\"),ordered = TRUE)\n",
    "recs$x_yearel <- recs$DOLLAREL\n",
    "\n",
    "recs$HDD65[recs$HDD65 ==0 ] = mean(recs$HDD65)\n",
    "\n",
    "recs$x_yearng <- recs$DOLLARNG/recs$HDD65*374 #https://www.eia.gov/totalenergy/data/annual/showtext.php?t=ptb0107\n",
    "recs$x_yearother <- recs$TOTALDOL - recs$DOLLAREL - recs$DOLLARNG\n"
   ]
  },
  {
   "cell_type": "code",
   "execution_count": 213,
   "metadata": {},
   "outputs": [
    {
     "data": {
      "text/plain": [
       "\n",
       "Spearman rho^2    Response variable:TOTALBTU\n",
       "\n",
       "             rho2      F df1  df2 P Adjusted rho2    n\n",
       "x_hhtype    0.347 264.54   4 1995 0         0.345 2000\n",
       "x_tenure    0.210 265.35   2 1997 0         0.209 2000\n",
       "x_yearbuilt 0.029   8.45   7 1992 0         0.025 2000\n",
       "x_mvin      0.092  50.83   4 1995 0         0.091 2000\n",
       "x_bedrooms  0.320 469.45   2 1997 0         0.319 2000\n",
       "x_totrooms  0.367 578.57   2 1997 0         0.366 2000\n",
       "x_heatfuel  0.120 136.37   2 1997 0         0.119 2000\n",
       "x_hhsize    0.098 108.10   2 1997 0         0.097 2000\n",
       "x_hhincome  0.139  45.77   7 1992 0         0.136 2000\n",
       "x_yearel    0.216 274.64   2 1997 0         0.215 2000\n",
       "x_yearng    0.153 180.04   2 1997 0         0.152 2000\n",
       "x_yearother 0.190 233.80   2 1997 0         0.189 2000"
      ]
     },
     "metadata": {},
     "output_type": "display_data"
    },
    {
     "data": {
      "text/plain": [
       "\n",
       "Spearman rho^2    Response variable:BTUEL\n",
       "\n",
       "             rho2       F df1  df2      P Adjusted rho2    n\n",
       "x_hhtype    0.188  115.18   4 1995 0.0000         0.186 2000\n",
       "x_tenure    0.101  112.55   2 1997 0.0000         0.100 2000\n",
       "x_yearbuilt 0.046   13.60   7 1992 0.0000         0.042 2000\n",
       "x_mvin      0.045   23.46   4 1995 0.0000         0.043 2000\n",
       "x_bedrooms  0.187  230.05   2 1997 0.0000         0.186 2000\n",
       "x_totrooms  0.192  237.03   2 1997 0.0000         0.191 2000\n",
       "x_heatfuel  0.107  119.75   2 1997 0.0000         0.106 2000\n",
       "x_hhsize    0.114  128.75   2 1997 0.0000         0.113 2000\n",
       "x_hhincome  0.057   17.06   7 1992 0.0000         0.053 2000\n",
       "x_yearel    0.834 5029.95   2 1997 0.0000         0.834 2000\n",
       "x_yearng    0.174  209.71   2 1997 0.0000         0.173 2000\n",
       "x_yearother 0.002    2.01   2 1997 0.1344         0.001 2000"
      ]
     },
     "metadata": {},
     "output_type": "display_data"
    },
    {
     "data": {
      "text/plain": [
       "\n",
       "Spearman rho^2    Response variable:BTUNG\n",
       "\n",
       "             rho2       F df1  df2     P Adjusted rho2    n\n",
       "x_hhtype    0.066   35.29   4 1995 0e+00         0.064 2000\n",
       "x_tenure    0.030   31.15   2 1997 0e+00         0.029 2000\n",
       "x_yearbuilt 0.062   18.81   7 1992 0e+00         0.059 2000\n",
       "x_mvin      0.011    5.70   4 1995 1e-04         0.009 2000\n",
       "x_bedrooms  0.057   60.25   2 1997 0e+00         0.056 2000\n",
       "x_totrooms  0.063   67.20   2 1997 0e+00         0.062 2000\n",
       "x_heatfuel  0.708 2417.07   2 1997 0e+00         0.707 2000\n",
       "x_hhsize    0.012   11.97   2 1997 0e+00         0.011 2000\n",
       "x_hhincome  0.041   12.28   7 1992 0e+00         0.038 2000\n",
       "x_yearel    0.037   38.56   2 1997 0e+00         0.036 2000\n",
       "x_yearng    0.850 5667.82   2 1997 0e+00         0.850 2000\n",
       "x_yearother 0.100  110.96   2 1997 0e+00         0.099 2000"
      ]
     },
     "metadata": {},
     "output_type": "display_data"
    },
    {
     "data": {
      "text/plain": [
       "\n",
       "Spearman rho^2    Response variable:BTUOTHER\n",
       "\n",
       "             rho2      F df1  df2      P Adjusted rho2    n\n",
       "x_hhtype    0.015   7.36   4 1995 0.0000         0.013 2000\n",
       "x_tenure    0.007   6.75   2 1997 0.0012         0.006 2000\n",
       "x_yearbuilt 0.007   2.09   7 1992 0.0416         0.004 2000\n",
       "x_mvin      0.011   5.78   4 1995 0.0001         0.009 2000\n",
       "x_bedrooms  0.002   1.97   2 1997 0.1398         0.001 2000\n",
       "x_totrooms  0.003   2.97   2 1997 0.0513         0.002 2000\n",
       "x_heatfuel  0.136 157.66   2 1997 0.0000         0.135 2000\n",
       "x_hhsize    0.002   1.52   2 1997 0.2199         0.001 2000\n",
       "x_hhincome  0.003   0.92   7 1992 0.4907         0.000 2000\n",
       "x_yearel    0.004   3.63   2 1997 0.0267         0.003 2000\n",
       "x_yearng    0.065  69.32   2 1997 0.0000         0.064 2000\n",
       "x_yearother 0.316 462.29   2 1997 0.0000         0.316 2000"
      ]
     },
     "metadata": {},
     "output_type": "display_data"
    }
   ],
   "source": [
    "# reformating common variables in pums\n",
    "pums<- pums[,1:82] #get rid of the weights\n",
    "pums$x_hhtype <- cut(pums$BLD, breaks= c(-Inf, 1,2,3,5,Inf), labels = c(\" mobile home\", \" single family detached\", \" single family attached\", \" apartment in building with 2-4 units\", \" apartment in building with 5+ units\"))\n",
    "pums$x_tenure <- cut(pums$TEN, breaks = c(-Inf, 2, 3, Inf), labels = c(\" owned by someone in the household\", \" rented\", \" occupied without payment of rent\"))\n",
    "\n",
    "pums$x_yearbuilt <- cut(replace_na(pums$YBL, 20), \n",
    "                        breaks = c(-Inf, 2, 3, 4, 5, 6, 7, 13, 19, Inf),\n",
    "                        labels = c(\" 1950 or earlier\", \" 1950-1959\", \" 1960-1969\", \" 1970-1979\",\n",
    "                                   \" 1980-1989\",\" 1990-1999\", \" 2000-2009\", \" 2010-2015\", 'UNK'),\n",
    "                        ordered = TRUE)\n",
    "\n",
    "\n",
    "pums$x_mvin <- cut(pums$MV, breaks = c(-Inf, 3, 4, 5, 6,Inf), labels = c(\" 4 or less years\",\" 5-9 years\" , \" 10-19 years\",  \" 20-29 years\",\" 30 years or more\" ), ordered = TRUE)\n",
    "pums$x_bedrooms <- pums$BDSP\n",
    "pums$x_totrooms <- pums$RMSP\n",
    "pums$x_heatfuel <- pums$HFL\n",
    "pums$x_heatfuel[pums$x_heatfuel==5] <- 8\n",
    "pums$x_heatfuel[pums$x_heatfuel==2] <- 8\n",
    "pums$x_heatfuel[pums$x_heatfuel==4] <- 8\n",
    "pums$x_heatfuel[pums$x_heatfuel==6] <- 8\n",
    "pums$x_heatfuel[pums$x_heatfuel==9] <- 8\n",
    "pums$x_heatfuel <- cut(pums$x_heatfuel, breaks = c(-Inf, 1,3, Inf), labels = c( \" natural gas\", \" electricity\",  \" other fuel\"))\n",
    "pums$x_hhsize <- pums$NP\n",
    "pums$x_hhincome <- addNA(cut(pums$HINCP,\n",
    "    breaks = c(-Inf, 20000, 40000, 60000, 80000, 100000, 120000, 140000, Inf),\n",
    "    labels = c(\"Less than $20,000\",\n",
    "                \"$20,000 to $39,999\",\n",
    "                \"$40,000 to $59,999\",\n",
    "                \"$60,000 to $79,999\",\n",
    "                \"$80,000 to $99,999\",\n",
    "                \"$100,000 to $119,999\",\n",
    "                \"$120,000 to $139,999\",\n",
    "                \"$140,000 or more\"),ordered = TRUE))\n",
    "\n",
    "pums$x_yearel <- pums$ELEP*12\n",
    "pums$x_yearel[pums$x_yearel==24] <- 0\n",
    "pums$x_yearel[pums$x_yearel==12] <- 0\n",
    "\n",
    "\n",
    "pums$x_yearng <- pums$GASP\n",
    "pums$x_yearng[pums$x_yearng==1] <- 0\n",
    "pums$x_yearng[pums$x_yearng==2] <- 0\n",
    "pums$x_yearng[pums$x_yearng==3] <- 0\n",
    "\n",
    "pums$x_yearother <- pums$FULP\n",
    "pums$x_yearother[pums$x_yearother==1] <- 0\n",
    "pums$x_yearother[pums$x_yearother==2] <- 0\n",
    "\n",
    "spearman2(TOTALBTU~x_hhtype+x_tenure+x_yearbuilt+x_mvin+x_bedrooms+x_totrooms+x_heatfuel+x_hhsize+ x_hhincome+ x_yearel+ x_yearng+ x_yearother, p =2, data = recs)\n",
    "spearman2(BTUEL~x_hhtype+x_tenure+x_yearbuilt+x_mvin+x_bedrooms+x_totrooms+x_heatfuel+x_hhsize+ x_hhincome+ x_yearel+ x_yearng+ x_yearother, p =2, data = recs)\n",
    "spearman2(BTUNG~x_hhtype+x_tenure+x_yearbuilt+x_mvin+x_bedrooms+x_totrooms+x_heatfuel+x_hhsize+ x_hhincome+ x_yearel+ x_yearng+ x_yearother, p =2, data = recs)\n",
    "spearman2(BTUOTHER~x_hhtype+x_tenure+x_yearbuilt+x_mvin+x_bedrooms+x_totrooms+x_heatfuel+x_hhsize+ x_hhincome+ x_yearel+ x_yearng+ x_yearother, p =2, data = recs)"
   ]
  },
  {
   "cell_type": "code",
   "execution_count": 214,
   "metadata": {},
   "outputs": [],
   "source": [
    "# drop NA values and standardize common variables\n",
    "pums <- pums[complete.cases(pums[,c(\"x_hhtype\", \"x_heatfuel\", \"x_totrooms\", \"x_yearel\", \"x_yearng\", \"x_yearother\")]),]\n",
    "\n",
    "merge_totrooms <- c(pums$x_totrooms, recs$x_totrooms)\n",
    "sd <- sd(merge_totrooms, na.rm = TRUE)\n",
    "mean <- mean(merge_totrooms, na.rm = TRUE)\n",
    "pums$x_totrooms_std <- (pums$x_totrooms - mean)/sd\n",
    "recs$x_totrooms_std <- (recs$x_totrooms - mean)/sd\n",
    "\n",
    "merge_yearel <- c(pums$x_yearel, recs$x_yearel)\n",
    "sd <- sd(merge_yearel, na.rm = TRUE)\n",
    "mean <- mean(merge_yearel, na.rm = TRUE)\n",
    "pums$x_yearel_std <- (pums$x_yearel - mean)/sd\n",
    "recs$x_yearel_std <- (recs$x_yearel - mean)/sd\n",
    "\n",
    "merge_yearng <- c(pums$x_yearng, recs$x_yearng)\n",
    "sd <- sd(merge_yearng, na.rm = TRUE)\n",
    "mean <- mean(merge_yearng, na.rm = TRUE)\n",
    "pums$x_yearng_std <- (pums$x_yearng - mean)/sd\n",
    "recs$x_yearng_std <- (recs$x_yearng - mean)/sd\n",
    "\n",
    "merge_yearother <- c(pums$x_yearother, recs$x_yearother)\n",
    "sd <- sd(merge_yearother, na.rm = TRUE)\n",
    "mean <- mean(merge_yearother, na.rm = TRUE)\n",
    "pums$x_yearother_std <- (pums$x_yearother - mean)/sd\n",
    "recs$x_yearother_std <- (recs$x_yearother - mean)/sd\n",
    "\n",
    "merge_hhsize <- c(pums$x_hhsize, recs$x_hhsize)\n",
    "sd <- sd(merge_hhsize, na.rm = TRUE)\n",
    "mean <- mean(merge_hhsize, na.rm = TRUE)\n",
    "pums$x_hhsize_std <- (pums$x_hhsize - mean)/sd\n",
    "recs$x_hhsize_std <- (recs$x_hhsize - mean)/sd\n"
   ]
  },
  {
   "cell_type": "code",
   "execution_count": 217,
   "metadata": {},
   "outputs": [
    {
     "name": "stdout",
     "output_type": "stream",
     "text": [
      "Warning: The  Manhattan  distance is being used\n",
      "All the categorical matching variables in rec and don \n",
      " data.frames, if present are recoded into dummies\n"
     ]
    },
    {
     "data": {
      "text/plain": [
       "   Min. 1st Qu.  Median    Mean 3rd Qu.    Max. \n",
       "0.00000 0.01500 0.02914 0.03916 0.04328 0.87124 "
      ]
     },
     "metadata": {},
     "output_type": "display_data"
    }
   ],
   "source": [
    "# statmatch electricity BTU\n",
    "group.v <- c(\"x_hhtype\")\n",
    "X.mtc <- c(\"x_totrooms_std\", \"x_yearel_std\")\n",
    "X.join <- c(\"SERIALNO\",\"x_totrooms\",\"x_yearel\",\"x_yearng\", \"x_hhtype\", \"x_heatfuel\")\n",
    "\n",
    "out.el <- NND.hotdeck(data.rec = recs, data.don = pums, match.vars = X.mtc, don.class = group.v, constrained = TRUE )\n",
    "elbtu <- create.fused(data.rec = recs, data.don = pums, mtc.ids = out.el$mtc.ids, z.vars=X.join)\n",
    "elbtu$dist <- out.el$dist.rd\n",
    "summary(elbtu$dist)\n",
    "elbtu<- elbtu[elbtu$dist<1,] #cut off distance above 1\n",
    "\n",
    "elbtu <- elbtu[,c(\"SERIALNO\",\"BTUEL\")]\n",
    "pums_el_final <- merge(pums, elbtu, by=\"SERIALNO\", all.x = TRUE)\n",
    "el_training <- pums_el_final[complete.cases(pums_el_final[,\"BTUEL\"]),]\n",
    "el_imputing <- pums_el_final[is.na(pums_el_final$\"BTUEL\"),]\n"
   ]
  },
  {
   "cell_type": "code",
   "execution_count": 218,
   "metadata": {},
   "outputs": [],
   "source": [
    "# prepare electric outputs for machine learning\n",
    "el_training <- el_training[,-83:-99]\n",
    "el_imputing <- el_imputing[,-83:-100]\n",
    "el_training[is.na(el_training)] <- 0\n",
    "el_imputing[is.na(el_imputing)] <- 0\n",
    "\n",
    "write.csv(el_training, \"output/el_training.csv\", row.names =FALSE)\n",
    "write.csv(el_imputing, \"output/el_imputing.csv\", row.names =FALSE)\n"
   ]
  },
  {
   "cell_type": "code",
   "execution_count": 219,
   "metadata": {},
   "outputs": [],
   "source": [
    "# statmatch natural gas BTU\n",
    "group.v <- c(\"x_heatfuel\")\n",
    "X.mtc <- c(\"x_yearng_std\")\n",
    "X.join <- c(\"SERIALNO\",\"x_yearng\", \"x_heatfuel\")\n"
   ]
  },
  {
   "cell_type": "code",
   "execution_count": 220,
   "metadata": {},
   "outputs": [
    {
     "name": "stdout",
     "output_type": "stream",
     "text": [
      "Warning: The  Manhattan  distance is being used\n",
      "All the categorical matching variables in rec and don \n",
      " data.frames, if present are recoded into dummies\n"
     ]
    }
   ],
   "source": [
    "out.ng <- NND.hotdeck(data.rec = recs, data.don = pums, match.vars = X.mtc, don.class = group.v, constrained = TRUE )\n",
    "ngbtu <- create.fused(data.rec = recs, data.don = pums, mtc.ids = out.ng$mtc.ids, z.vars=X.join)\n",
    "ngbtu$dist <- out.ng$dist.rd\n",
    "ngbtu<- ngbtu[ngbtu$dist<1,]\n",
    "\n",
    "ngbtu <- ngbtu[,c(\"SERIALNO\",\"BTUNG\")]\n",
    "pums_ng_final <- merge(pums, ngbtu, by=\"SERIALNO\", all.x = TRUE)\n",
    "ng_training <- pums_ng_final[complete.cases(pums_ng_final[,\"BTUNG\"]),]\n",
    "ng_imputing <- pums_ng_final[is.na(pums_ng_final$\"BTUNG\"),]\n",
    "\n",
    "ng_training <- ng_training[,-83:-99]\n",
    "ng_imputing <- ng_imputing[,-83:-100]\n",
    "ng_training[is.na(ng_training)] <- 0\n",
    "ng_imputing[is.na(ng_imputing)] <- 0\n"
   ]
  },
  {
   "cell_type": "code",
   "execution_count": 221,
   "metadata": {},
   "outputs": [],
   "source": [
    "write.csv(ng_training, \"output/ng_training.csv\", row.names =FALSE)\n",
    "write.csv(ng_imputing, \"output/ng_imputing.csv\", row.names =FALSE)"
   ]
  },
  {
   "cell_type": "code",
   "execution_count": 222,
   "metadata": {},
   "outputs": [
    {
     "name": "stdout",
     "output_type": "stream",
     "text": [
      "Warning: The  Manhattan  distance is being used\n",
      "All the categorical matching variables in rec and don \n",
      " data.frames, if present are recoded into dummies\n"
     ]
    }
   ],
   "source": [
    "# statmatch other BTU\n",
    "group.v <- c(\"x_heatfuel\")\n",
    "X.mtc <- c(\"x_yearother_std\")\n",
    "X.join <- c(\"SERIALNO\",\"x_yearother\", \"x_heatfuel\")\n",
    "\n",
    "out.other<- NND.hotdeck(data.rec = recs, data.don = pums, match.vars = X.mtc, don.class = group.v, constrained = TRUE )\n",
    "obtu <- create.fused(data.rec = recs, data.don = pums, mtc.ids = out.other$mtc.ids, z.vars=X.join)\n",
    "obtu$dist <- out.other$dist.rd\n",
    "obtu <- obtu[obtu$dist<1, ]\n",
    "obtu <- obtu[,c(\"SERIALNO\",\"BTUOTHER\")]\n",
    "pums_other_final <- merge(pums, obtu, by=\"SERIALNO\", all.x = TRUE)\n",
    "\n",
    "other_training <- pums_other_final[complete.cases(pums_other_final[,\"BTUOTHER\"]),]\n",
    "other_imputing <- pums_other_final[is.na(pums_other_final$\"BTUOTHER\"),]\n",
    "other_training <- other_training[,-83:-99]\n",
    "other_imputing <- other_imputing[,-83:-100]\n",
    "other_training[is.na(other_training)] <- 0\n",
    "other_imputing[is.na(other_imputing)] <- 0\n",
    "\n",
    "write.csv(other_training, \"output/other_training.csv\", row.names =FALSE)\n",
    "write.csv(other_imputing, \"output/other_imputing.csv\", row.names =FALSE)\n",
    "\n",
    "\n"
   ]
  },
  {
   "cell_type": "code",
   "execution_count": null,
   "metadata": {},
   "outputs": [],
   "source": []
  }
 ],
 "metadata": {
  "kernelspec": {
   "display_name": "R",
   "language": "R",
   "name": "ir"
  },
  "language_info": {
   "codemirror_mode": "r",
   "file_extension": ".r",
   "mimetype": "text/x-r-source",
   "name": "R",
   "pygments_lexer": "r",
   "version": "3.6.1"
  }
 },
 "nbformat": 4,
 "nbformat_minor": 4
}
